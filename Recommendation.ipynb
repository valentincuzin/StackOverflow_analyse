{
 "cells": [
  {
   "cell_type": "markdown",
   "metadata": {},
   "source": [
    "# Recommendation"
   ]
  },
  {
   "cell_type": "code",
   "execution_count": null,
   "metadata": {},
   "outputs": [],
   "source": [
    "from pandas import read_csv, DataFrame, Series"
   ]
  },
  {
   "cell_type": "code",
   "execution_count": null,
   "metadata": {},
   "outputs": [],
   "source": [
    "# import the data (take longtime)\n",
    "# retrive from here https://www.kaggle.com/datasets/stackoverflow/stacksample/data\n",
    "raw_answers: DataFrame = read_csv('./data/Answers.csv', encoding='latin-1')\n",
    "raw_questions: DataFrame = read_csv('./data/Questions.csv', encoding='latin-1')\n",
    "raw_tags: DataFrame = read_csv('./data/Tags.csv', encoding='latin-1')"
   ]
  },
  {
   "cell_type": "markdown",
   "metadata": {},
   "source": [
    "## Data cleaning and fitting"
   ]
  },
  {
   "cell_type": "code",
   "execution_count": null,
   "metadata": {},
   "outputs": [],
   "source": [
    "# creating copy before:\n",
    "questions = raw_questions.copy()\n",
    "answers = raw_answers.copy()\n",
    "tags = raw_tags.copy()"
   ]
  },
  {
   "cell_type": "code",
   "execution_count": null,
   "metadata": {},
   "outputs": [],
   "source": [
    "# make a list of tags and link it to questions\n",
    "tags = raw_tags.groupby('Id')['Tag'].apply(list).reset_index()\n",
    "questions = raw_questions.join(tags['Tag'], on='Id')\n",
    "answers = raw_answers.join(tags['Tag'], on='ParentId')\n",
    "questions"
   ]
  },
  {
   "cell_type": "markdown",
   "metadata": {},
   "source": [
    "**Answers_filtered** is a dataframe containing only answer with a tag more frequent than 0.99. "
   ]
  },
  {
   "cell_type": "code",
   "execution_count": null,
   "metadata": {},
   "outputs": [],
   "source": [
    "count_tags = raw_tags['Tag'].value_counts()\n",
    "limit = count_tags.quantile(0.999)\n",
    "most_frequent_tags = count_tags[count_tags > limit]\n",
    "answers_per_tags = answers['Tag'].explode().reset_index()\n",
    "answers_per_tags = answers_per_tags[answers_per_tags['Tag'].isin(most_frequent_tags.keys())]\n",
    "answers_per_tags = answers_per_tags.groupby('index')['Tag'].apply(list).reset_index()\n",
    "answers_filtered = answers.loc[answers_per_tags['index']].drop('Tag', axis=1)\n",
    "answers_filtered = answers_filtered.join(answers_per_tags['Tag']).dropna(subset='Tag')\n",
    "answers_filtered"
   ]
  },
  {
   "cell_type": "markdown",
   "metadata": {},
   "source": [
    "Now we filter most frequent User"
   ]
  },
  {
   "cell_type": "code",
   "execution_count": null,
   "metadata": {},
   "outputs": [],
   "source": [
    "most_frequent_users = answers_filtered['OwnerUserId'].value_counts()\n",
    "limit = most_frequent_users.quantile(0.9) # selection 90% best active users for answers, 45752 rows\n",
    "most_frequent_users = most_frequent_users[most_frequent_users > limit]\n",
    "answers_filtered2 = answers_filtered.loc[answers['OwnerUserId'].isin(most_frequent_users.keys())]\n",
    "answers_filtered2 = answers_filtered2.explode('Tag')\n",
    "answers_filtered2"
   ]
  },
  {
   "cell_type": "code",
   "execution_count": null,
   "metadata": {},
   "outputs": [],
   "source": [
    "grouped = answers_filtered2.groupby(['OwnerUserId', 'Tag'])\n",
    "count = grouped.size()\n",
    "User_per_tag = count.unstack(fill_value=0)\n",
    "User_per_tag\n",
    "\n",
    "# apply a mean per line\n",
    "User_per_tag_normed = User_per_tag.div(User_per_tag.sum(axis=1), axis=0).dropna(how='any')\n",
    "User_per_tag_normed.reset_index()"
   ]
  },
  {
   "cell_type": "code",
   "execution_count": null,
   "metadata": {},
   "outputs": [],
   "source": [
    "User_per_tag_normed.iloc[0]"
   ]
  },
  {
   "cell_type": "code",
   "execution_count": null,
   "metadata": {},
   "outputs": [],
   "source": [
    "User_per_tag2 = count.reset_index(name='count')\n",
    "for idx, row in User_per_tag2.iterrows():\n",
    "\tUser_per_tag2.loc[idx, 'count'] = User_per_tag_normed.loc[User_per_tag2.loc[idx]['OwnerUserId'], User_per_tag2.loc[idx]['Tag']]"
   ]
  },
  {
   "cell_type": "markdown",
   "metadata": {},
   "source": [
    "## Analyse"
   ]
  },
  {
   "cell_type": "code",
   "execution_count": null,
   "metadata": {},
   "outputs": [],
   "source": [
    "from pandas import read_csv, DataFrame\n",
    "from sklearn.decomposition import NMF as NMF_sklearn\n",
    "from numpy import dot\n",
    "from surprise import Dataset, SVD, KNNBasic, NMF\n",
    "from surprise.reader import Reader\n",
    "from surprise.model_selection import train_test_split, cross_validate"
   ]
  },
  {
   "cell_type": "markdown",
   "metadata": {},
   "source": [
    "### First Recommendation Using NMF"
   ]
  },
  {
   "cell_type": "code",
   "execution_count": null,
   "metadata": {},
   "outputs": [],
   "source": [
    "model = NMF_sklearn(n_components=20)\n",
    "W = model.fit_transform(User_per_tag_normed)\n",
    "nmf_res = DataFrame(dot(W, model.components_), columns=User_per_tag_normed.columns)\n",
    "nmf_res"
   ]
  },
  {
   "cell_type": "code",
   "execution_count": null,
   "metadata": {},
   "outputs": [],
   "source": [
    "for l, x in nmf_res.iloc[0].to_dict().items():\n",
    "\tprint(l,f\"{x:.2f}\")"
   ]
  },
  {
   "cell_type": "markdown",
   "metadata": {},
   "source": [
    "### Second Using SVD and KNNBasic evaluation"
   ]
  },
  {
   "cell_type": "code",
   "execution_count": null,
   "metadata": {},
   "outputs": [],
   "source": [
    "reader = Reader(line_format='user item rating')\n",
    "dataset = Dataset.load_from_df(User_per_tag2, reader)\n",
    "cross_validate(SVD(), dataset, measures=[\"RMSE\", \"MAE\"], cv=5, verbose=True)\n",
    "cross_validate(KNNBasic(), dataset, measures=[\"RMSE\", \"MAE\"], cv=5, verbose=True)\n",
    "cross_validate(NMF(), dataset, measures=[\"RMSE\", \"MAE\"], cv=5, verbose=True)"
   ]
  },
  {
   "cell_type": "code",
   "execution_count": null,
   "metadata": {},
   "outputs": [],
   "source": []
  }
 ],
 "metadata": {
  "kernelspec": {
   "display_name": "p312",
   "language": "python",
   "name": "python3"
  },
  "language_info": {
   "codemirror_mode": {
    "name": "ipython",
    "version": 3
   },
   "file_extension": ".py",
   "mimetype": "text/x-python",
   "name": "python",
   "nbconvert_exporter": "python",
   "pygments_lexer": "ipython3",
   "version": "3.12.7"
  }
 },
 "nbformat": 4,
 "nbformat_minor": 2
}
