{
 "cells": [
  {
   "cell_type": "markdown",
   "metadata": {},
   "source": [
    "# First Data Analyse"
   ]
  },
  {
   "cell_type": "code",
   "execution_count": 3,
   "metadata": {},
   "outputs": [],
   "source": [
    "from pandas import read_csv, DataFrame"
   ]
  },
  {
   "cell_type": "code",
   "execution_count": null,
   "metadata": {},
   "outputs": [],
   "source": [
    "# import the data (take longtime)\n",
    "raw_answer = read_csv('./data/Answers.csv', encoding='latin-1')\n",
    "raw_questions = read_csv('./data/Questions.csv', encoding='latin-1')\n",
    "raw_tags = read_csv('./data/Tags.csv', encoding='latin-1')"
   ]
  },
  {
   "cell_type": "code",
   "execution_count": 12,
   "metadata": {},
   "outputs": [
    {
     "data": {
      "text/html": [
       "<div>\n",
       "<style scoped>\n",
       "    .dataframe tbody tr th:only-of-type {\n",
       "        vertical-align: middle;\n",
       "    }\n",
       "\n",
       "    .dataframe tbody tr th {\n",
       "        vertical-align: top;\n",
       "    }\n",
       "\n",
       "    .dataframe thead th {\n",
       "        text-align: right;\n",
       "    }\n",
       "</style>\n",
       "<table border=\"1\" class=\"dataframe\">\n",
       "  <thead>\n",
       "    <tr style=\"text-align: right;\">\n",
       "      <th></th>\n",
       "      <th>Id</th>\n",
       "      <th>OwnerUserId</th>\n",
       "      <th>CreationDate</th>\n",
       "      <th>ParentId</th>\n",
       "      <th>Score</th>\n",
       "      <th>Body</th>\n",
       "    </tr>\n",
       "  </thead>\n",
       "  <tbody>\n",
       "    <tr>\n",
       "      <th>0</th>\n",
       "      <td>92</td>\n",
       "      <td>61.0</td>\n",
       "      <td>2008-08-01T14:45:37Z</td>\n",
       "      <td>90</td>\n",
       "      <td>13</td>\n",
       "      <td>&lt;p&gt;&lt;a href=\"http://svnbook.red-bean.com/\"&gt;Vers...</td>\n",
       "    </tr>\n",
       "    <tr>\n",
       "      <th>1</th>\n",
       "      <td>124</td>\n",
       "      <td>26.0</td>\n",
       "      <td>2008-08-01T16:09:47Z</td>\n",
       "      <td>80</td>\n",
       "      <td>12</td>\n",
       "      <td>&lt;p&gt;I wound up using this. It is a kind of a ha...</td>\n",
       "    </tr>\n",
       "    <tr>\n",
       "      <th>2</th>\n",
       "      <td>199</td>\n",
       "      <td>50.0</td>\n",
       "      <td>2008-08-01T19:36:46Z</td>\n",
       "      <td>180</td>\n",
       "      <td>1</td>\n",
       "      <td>&lt;p&gt;I've read somewhere the human eye can't dis...</td>\n",
       "    </tr>\n",
       "    <tr>\n",
       "      <th>3</th>\n",
       "      <td>269</td>\n",
       "      <td>91.0</td>\n",
       "      <td>2008-08-01T23:49:57Z</td>\n",
       "      <td>260</td>\n",
       "      <td>4</td>\n",
       "      <td>&lt;p&gt;Yes, I thought about that, but I soon figur...</td>\n",
       "    </tr>\n",
       "    <tr>\n",
       "      <th>4</th>\n",
       "      <td>307</td>\n",
       "      <td>49.0</td>\n",
       "      <td>2008-08-02T01:49:46Z</td>\n",
       "      <td>260</td>\n",
       "      <td>28</td>\n",
       "      <td>&lt;p&gt;&lt;a href=\"http://www.codeproject.com/Article...</td>\n",
       "    </tr>\n",
       "    <tr>\n",
       "      <th>...</th>\n",
       "      <td>...</td>\n",
       "      <td>...</td>\n",
       "      <td>...</td>\n",
       "      <td>...</td>\n",
       "      <td>...</td>\n",
       "      <td>...</td>\n",
       "    </tr>\n",
       "    <tr>\n",
       "      <th>2014511</th>\n",
       "      <td>40143247</td>\n",
       "      <td>333403.0</td>\n",
       "      <td>2016-10-19T23:42:35Z</td>\n",
       "      <td>40143190</td>\n",
       "      <td>0</td>\n",
       "      <td>&lt;p&gt;Tanks to &lt;a href=\"http://stackoverflow.com/...</td>\n",
       "    </tr>\n",
       "    <tr>\n",
       "      <th>2014512</th>\n",
       "      <td>40143322</td>\n",
       "      <td>642706.0</td>\n",
       "      <td>2016-10-19T23:50:35Z</td>\n",
       "      <td>40137110</td>\n",
       "      <td>1</td>\n",
       "      <td>&lt;h1&gt;tl;dr&lt;/h1&gt;\\n\\n&lt;pre&gt;&lt;code&gt;ZonedDateTime.par...</td>\n",
       "    </tr>\n",
       "    <tr>\n",
       "      <th>2014513</th>\n",
       "      <td>40143336</td>\n",
       "      <td>2239781.0</td>\n",
       "      <td>2016-10-19T23:52:08Z</td>\n",
       "      <td>40141860</td>\n",
       "      <td>0</td>\n",
       "      <td>&lt;p&gt;I came up with a very dirty workaround. Bef...</td>\n",
       "    </tr>\n",
       "    <tr>\n",
       "      <th>2014514</th>\n",
       "      <td>40143349</td>\n",
       "      <td>6934347.0</td>\n",
       "      <td>2016-10-19T23:54:02Z</td>\n",
       "      <td>40077010</td>\n",
       "      <td>0</td>\n",
       "      <td>&lt;p&gt;I solved my own problem defining the follow...</td>\n",
       "    </tr>\n",
       "    <tr>\n",
       "      <th>2014515</th>\n",
       "      <td>40143389</td>\n",
       "      <td>4464432.0</td>\n",
       "      <td>2016-10-19T23:58:58Z</td>\n",
       "      <td>40142910</td>\n",
       "      <td>0</td>\n",
       "      <td>&lt;p&gt;Try add &lt;code&gt;retrun false&lt;/code&gt; in the &lt;c...</td>\n",
       "    </tr>\n",
       "  </tbody>\n",
       "</table>\n",
       "<p>2014516 rows × 6 columns</p>\n",
       "</div>"
      ],
      "text/plain": [
       "               Id  ...                                               Body\n",
       "0              92  ...  <p><a href=\"http://svnbook.red-bean.com/\">Vers...\n",
       "1             124  ...  <p>I wound up using this. It is a kind of a ha...\n",
       "2             199  ...  <p>I've read somewhere the human eye can't dis...\n",
       "3             269  ...  <p>Yes, I thought about that, but I soon figur...\n",
       "4             307  ...  <p><a href=\"http://www.codeproject.com/Article...\n",
       "...           ...  ...                                                ...\n",
       "2014511  40143247  ...  <p>Tanks to <a href=\"http://stackoverflow.com/...\n",
       "2014512  40143322  ...  <h1>tl;dr</h1>\\n\\n<pre><code>ZonedDateTime.par...\n",
       "2014513  40143336  ...  <p>I came up with a very dirty workaround. Bef...\n",
       "2014514  40143349  ...  <p>I solved my own problem defining the follow...\n",
       "2014515  40143389  ...  <p>Try add <code>retrun false</code> in the <c...\n",
       "\n",
       "[2014516 rows x 6 columns]"
      ]
     },
     "execution_count": 12,
     "metadata": {},
     "output_type": "execute_result"
    }
   ],
   "source": []
  },
  {
   "cell_type": "code",
   "execution_count": 14,
   "metadata": {},
   "outputs": [
    {
     "name": "stdout",
     "output_type": "stream",
     "text": [
      "2014516\n",
      "1545718\n"
     ]
    }
   ],
   "source": [
    "print(len(raw_answer['OwnerUserId']))\n",
    "print(len(raw_answer['OwnerUserId'].drop_duplicates()))"
   ]
  },
  {
   "cell_type": "markdown",
   "metadata": {},
   "source": []
  }
 ],
 "metadata": {
  "kernelspec": {
   "display_name": ".venv",
   "language": "python",
   "name": "python3"
  },
  "language_info": {
   "codemirror_mode": {
    "name": "ipython",
    "version": 3
   },
   "file_extension": ".py",
   "mimetype": "text/x-python",
   "name": "python",
   "nbconvert_exporter": "python",
   "pygments_lexer": "ipython3",
   "version": "3.12.6"
  }
 },
 "nbformat": 4,
 "nbformat_minor": 2
}
